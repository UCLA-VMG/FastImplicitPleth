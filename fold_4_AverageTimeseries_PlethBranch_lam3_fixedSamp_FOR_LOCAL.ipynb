{
 "cells": [
  {
   "cell_type": "markdown",
   "metadata": {
    "id": "zjnYK-jckO5J"
   },
   "source": [
    "# Start from here if git repo exists (or if you restart runtime)"
   ]
  },
  {
   "cell_type": "code",
   "execution_count": 1,
   "metadata": {
    "colab": {
     "base_uri": "https://localhost:8080/"
    },
    "executionInfo": {
     "elapsed": 313,
     "status": "ok",
     "timestamp": 1672889892044,
     "user": {
      "displayName": "Pradyumna Chari",
      "userId": "06555723454452599039"
     },
     "user_tz": 480
    },
    "id": "3fDtcMQZb23t",
    "outputId": "d619e7a4-17c3-420b-ad0f-661799cab14a"
   },
   "outputs": [
    {
     "name": "stdout",
     "output_type": "stream",
     "text": [
      "/home/pradyumnachari/Documents/ImplicitPPG/mmhealth_postprocess\n",
      "Already on 'old_method_all_perm'\n",
      "Your branch is up to date with 'origin/old_method_all_perm'.\n",
      "  main\u001b[m\n",
      "* \u001b[32mold_method_all_perm\u001b[m\n"
     ]
    }
   ],
   "source": [
    "# Checkout to the branch containing the correct code\n",
    "# (Currently old_method_all_perm). See the output to be sure\n",
    "%cd mmhealth_postprocess\n",
    "!git checkout old_method_all_perm\n",
    "!git branch"
   ]
  },
  {
   "cell_type": "code",
   "execution_count": 2,
   "metadata": {
    "colab": {
     "base_uri": "https://localhost:8080/"
    },
    "executionInfo": {
     "elapsed": 5016,
     "status": "ok",
     "timestamp": 1672889897164,
     "user": {
      "displayName": "Pradyumna Chari",
      "userId": "06555723454452599039"
     },
     "user_tz": 480
    },
    "id": "pJE91R9OkYnv",
    "outputId": "7ce9e1b0-ae3a-467a-d4cd-7d4b02882365"
   },
   "outputs": [],
   "source": [
    "# !pip install imageio-ffmpeg"
   ]
  },
  {
   "cell_type": "markdown",
   "metadata": {
    "id": "-D9s_s2wj-eI"
   },
   "source": [
    "# Python code starts here"
   ]
  },
  {
   "cell_type": "code",
   "execution_count": 3,
   "metadata": {
    "colab": {
     "base_uri": "https://localhost:8080/"
    },
    "executionInfo": {
     "elapsed": 6487,
     "status": "ok",
     "timestamp": 1672889912534,
     "user": {
      "displayName": "Pradyumna Chari",
      "userId": "06555723454452599039"
     },
     "user_tz": 480
    },
    "id": "IlPV8Ajddobz",
    "outputId": "a9b228db-dcd3-4192-a5b1-b9253c643646"
   },
   "outputs": [
    {
     "name": "stdout",
     "output_type": "stream",
     "text": [
      "Running on device: cuda:0\n"
     ]
    }
   ],
   "source": [
    "import numpy as np \n",
    "import matplotlib.pyplot as plt \n",
    "import os\n",
    "import torch\n",
    "from torch.utils.data import DataLoader, Dataset\n",
    "import torchvision.transforms as T\n",
    "import h5py\n",
    "from tqdm import tqdm\n",
    "import imageio\n",
    "import scipy\n",
    "\n",
    "from uni_modal.cameras.PhysNet_NewLoader.heart_rate_extract import prpsd, getErrors\n",
    "\n",
    "device = torch.device('cuda:0' if torch.cuda.is_available() else 'cpu')\n",
    "print('Running on device: {}'.format(device))\n",
    "\n",
    "#seeds\n",
    "seed = 42\n",
    "torch.manual_seed(seed)\n",
    "np.random.seed(seed)"
   ]
  },
  {
   "cell_type": "code",
   "execution_count": 4,
   "metadata": {
    "id": "BVH-WL5kxA4f"
   },
   "outputs": [],
   "source": [
    "import math\n",
    "import torch.nn as nn\n",
    "from torch.nn.modules.utils import _triple\n",
    "import torch\n",
    "\n",
    "from __future__ import print_function, division\n",
    "from torchvision import transforms\n",
    "\n",
    "class SNRLossOnPreComputedAndWindowedFFT_base(nn.Module):\n",
    "    def __init__(self, start_idx, window_fraction=0.02, device=torch.device('cpu')):\n",
    "        super(SNRLossOnPreComputedAndWindowedFFT_base, self).__init__()\n",
    "        self.start_idx = start_idx\n",
    "        self.window_fraction = window_fraction\n",
    "        self.device = device\n",
    "        \n",
    "    def forward(self, outputs: torch.Tensor, targets: torch.Tensor):\n",
    "        assert outputs.shape == targets.shape, \"The predicted output and the target labels have different shapes\"\n",
    "        if not outputs.is_cuda:\n",
    "            torch.backends.mkl.is_available()\n",
    "        # The window length for the calculating the singal to noise ratio of the output's PSD\n",
    "        # Here we take 5% in tota, i.e. 2.5% on both sides\n",
    "        window_size_base_harmonic = int(self.window_fraction * targets.shape[1]) + 1\n",
    "\n",
    "        # Get the strongest peaks from the output, i.e. the heart beats from the PSD of the targets\n",
    "        Y2 = torch.abs(targets) ** 2\n",
    "        HRixs = torch.argmax(Y2,axis=1)\n",
    "\n",
    "        # get the PSD of the outputs of the neural network\n",
    "        X2 = torch.abs(outputs) ** 2\n",
    "\n",
    "        # calc SNR for each batch\n",
    "        losses = torch.empty((X2.shape[0],), dtype=torch.float32)\n",
    "        for count, ref_idx in enumerate(HRixs):\n",
    "            # Compute the power around the heart beat idx and its fist harmonic => Signal\n",
    "            base_start = max([0, ref_idx - window_size_base_harmonic])\n",
    "            base_end   = ref_idx + window_size_base_harmonic + 1\n",
    "            harmonic_start = max([0, (2 * ref_idx) + self.start_idx - window_size_base_harmonic])\n",
    "            harmonic_end   = (2 * ref_idx) + self.start_idx + window_size_base_harmonic + 1\n",
    "            pulse_freq_amp = torch.sum(X2[count, base_start : base_end])#+torch.sum(X2[count, harmonic_start : harmonic_end])\n",
    "            # Compute the power outisde the above windows => Noise\n",
    "            other_avrg = torch.sum(X2[count, :base_start]) + torch.sum(X2[count, base_end:])#+torch.sum(X2[count, base_end : harmonic_start]) + torch.sum(X2[count, harmonic_end:]))\n",
    "            # Take the SNR loss in decibels\n",
    "            losses[count] = -10*torch.log10(pulse_freq_amp/(other_avrg+1e-7))\n",
    "        losses.to(self.device)\n",
    "        return torch.mean(losses)\n",
    "\n",
    "\n",
    "\n",
    "'''\n",
    "Code of 'Remote Photoplethysmograph Signal Measurement from Facial Videos Using Spatio-Temporal Networks' \n",
    "By Zitong Yu, 2019/05/05\n",
    "If you use the code, please cite:\n",
    "@inproceedings{yu2019remote,\n",
    "    title={Remote Photoplethysmograph Signal Measurement from Facial Videos Using Spatio-Temporal Networks},\n",
    "    author={Yu, Zitong and Li, Xiaobai and Zhao, Guoying},\n",
    "    booktitle= {British Machine Vision Conference (BMVC)},\n",
    "    year = {2019}\n",
    "}\n",
    "Only for research purpose, and commercial use is not allowed.\n",
    "MIT License\n",
    "Copyright (c) 2019 \n",
    "      How to use it\n",
    "    #1. Inference the model\n",
    "    rPPG, x_visual, x_visual3232, x_visual1616 = model(inputs)\n",
    "    \n",
    "    #2. Normalized the Predicted rPPG signal and GroundTruth BVP signal\n",
    "    rPPG = (rPPG-torch.mean(rPPG)) /torch.std(rPPG)\t \t# normalize\n",
    "    BVP_label = (BVP_label-torch.mean(BVP_label)) /torch.std(BVP_label)\t \t# normalize\n",
    "    \n",
    "    #3. Calculate the loss\n",
    "    loss_ecg = Neg_Pearson(rPPG, BVP_label)\n",
    "'''\n",
    "########################################\n",
    "\n",
    "\n",
    "\n",
    "\n",
    "class Neg_Pearson2(torch.nn.Module):    # Pearson range [-1, 1] so if < 0, abs|loss| ; if >0, 1- loss\n",
    "    def __init__(self):\n",
    "        super(Neg_Pearson2,self).__init__()\n",
    "\n",
    "        self.epsilon = 1e-2\n",
    "\n",
    "        return\n",
    "    def forward(self, preds, labels):       # tensor [Batch, Temporal]\n",
    "        loss = 0\n",
    "        for i in range(preds.shape[0]):\n",
    "            # print(labels[i])\n",
    "            # print(preds[i])\n",
    "            x = normalize_signal2(preds[i])\n",
    "            y = normalize_signal2(labels[i])\n",
    "\n",
    "            sum_x = torch.sum(x)                # x\n",
    "            sum_y = torch.sum(y)               # y\n",
    "            sum_xy = torch.sum(x*y)         # xy\n",
    "            sum_x2 = torch.sum(torch.pow(x,2))  # x^2\n",
    "            sum_y2 = torch.sum(torch.pow(y,2)) # y^2\n",
    "            N = preds.shape[1]\n",
    "            pearson = (N*sum_xy - sum_x*sum_y)/(torch.sqrt((N*sum_x2 - torch.pow(sum_x,2)+self.epsilon)*(N*sum_y2 - torch.pow(sum_y,2)+self.epsilon)))\n",
    "\n",
    "            # print(torch.sqrt((N*sum_x2 - torch.pow(sum_x,2))), (N*sum_y2 - torch.pow(sum_y,2)))\n",
    "            # print(pearson, end=\" \")\n",
    "            #if (pearson>=0).data.cpu().numpy():    # torch.cuda.ByteTensor -->  numpy\n",
    "            #    loss += 1 - pearson\n",
    "            #else:\n",
    "            #    loss += 1 - torch.abs(pearson)\n",
    "            \n",
    "            loss += (1 - pearson)**2\n",
    "            \n",
    "        # print(loss) \n",
    "        loss = loss/preds.shape[0]\n",
    "        return loss\n",
    "\n",
    "\n",
    "def normalize_signal2(sig):\n",
    "    return (sig-torch.mean(sig)) / (torch.std(sig)+1.00e-6)"
   ]
  },
  {
   "cell_type": "code",
   "execution_count": 5,
   "metadata": {
    "id": "wpboqDmlSGHS"
   },
   "outputs": [],
   "source": [
    "##UNIMODAL DATALOADER\n",
    "class RppgData2(Dataset):\n",
    "    def __init__(self, datapath, datapaths, recording_str, video_length = 900, num_segments = 3, frame_length = 300, fs=30, l_freq_bpm=45, u_freq_bpm=180, fft_resolution = 48) -> None:\n",
    "        #REMOVE RECORDING STRING\n",
    "        #TODO TODO this line is temporary \n",
    "        self.ppg_offset = 25\n",
    "        self.num_samps = 30\n",
    "        #Data structure for videos\n",
    "        self.video_length = video_length\n",
    "        self.num_segments = num_segments\n",
    "        self.part_length = int(video_length/num_segments)\n",
    "        self.datapath = datapath\n",
    "\n",
    "        self.fs = fs\n",
    "        self.l_freq_bpm = l_freq_bpm\n",
    "        self.u_freq_bpm = u_freq_bpm\n",
    "        self.fft_resolution = fft_resolution\n",
    "        # TODO TODO TODO : To be corrected\n",
    "        # The PPG files for the RGB are stored as rgbd_ppg and not rgbd_rgb_ppg\n",
    "\n",
    "        #load videos and signals\n",
    "        self.video_list = datapaths\n",
    "        self.signal_list = []\n",
    "        self.item_list = []\n",
    "        #load signals\n",
    "        remove_folders = []\n",
    "        for folder in self.video_list:\n",
    "            file_path1 = os.path.join(self.datapath, 'residual_0_'+folder+'.npy')\n",
    "            file_path2 = os.path.join(self.datapath, 'residual_300_'+folder+'.npy')\n",
    "            file_path3 = os.path.join(self.datapath, 'residual_600_'+folder+'.npy')\n",
    "            # print(file_path)\n",
    "            if(os.path.exists(file_path1) and os.path.exists(file_path2) and os.path.exists(file_path3)):\n",
    "                #Load the time series signal\n",
    "                avg_temp = np.zeros((3,self.video_length))\n",
    "                for frame_start in range(self.num_segments):\n",
    "                    vid = np.load(os.path.join(self.datapath, 'residual_'+str(int(frame_start*self.part_length))+'_'+folder+'.npy'))\n",
    "                    temp = np.mean(np.mean(vid,axis=1),axis=1)\n",
    "                    temp = np.transpose(temp,(1,0))\n",
    "\n",
    "                    avg_temp[:,frame_start*self.part_length:(frame_start+1)*self.part_length] = temp\n",
    "\n",
    "                    # for img_idx in range(self.part_length):\n",
    "                    #     image = vid.get_data(img_idx) #frame_start*self.part_length+\n",
    "\n",
    "                    #     avg_temp[:,int(frame_start*self.part_length+img_idx)] = np.mean(np.mean(image,axis=0),axis=0)\n",
    "\n",
    "                # avg_temp = (avg_temp-np.mean(avg_temp,axis=1,keepdims=True))/np.std(avg_temp,axis=1,keepdims=True)\n",
    "                self.item_list.append(avg_temp)\n",
    "\n",
    "                if(os.path.exists(os.path.join(self.datapath, f\"{folder}.npy\"))):\n",
    "                    signal = np.load(os.path.join(self.datapath, f\"{folder}.npy\"))\n",
    "                    mean_temp = np.mean(signal)\n",
    "                    std_temp = np.std(signal)\n",
    "                    signal = (signal - mean_temp)/std_temp\n",
    "                    self.signal_list.append(signal[self.ppg_offset:])\n",
    "                else:\n",
    "                    print(folder, \"ppg doesn't exist.\")\n",
    "                    remove_folders.append(folder)\n",
    "            else:\n",
    "                print(folder, \" doesn't exist.\")\n",
    "                remove_folders.append(folder)\n",
    "\n",
    "        for i in remove_folders:\n",
    "            self.video_list.remove(i)    \n",
    "            print(\"removed\", i)\n",
    "        #process_vital_signs\n",
    "        ### TODO TODO TODO detrend signals\n",
    "        self.signal_list = np.array(self.signal_list)\n",
    "\n",
    "        self.item_list = np.array(self.item_list)\n",
    "        # Create a list of video number and valid frame nuber to extract the datad from.\n",
    "        self.frame_length = frame_length\n",
    "        self.video_nums = np.arange(0, len(self.video_list))\n",
    "        # self.frame_nums = np.arange(0, self.part_length - frame_length - self.ppg_offset)\n",
    "\n",
    "        #create all possible sampling combinations and put in self.all_idxs\n",
    "        self.all_idxs = []\n",
    "        for num in self.video_nums:\n",
    "            cur_frame_nums = np.random.choice(np.arange(self.video_length - self.frame_length - self.ppg_offset), size=self.num_samps, replace=False)\n",
    "            # cur_frame_nums = np.random.randint(\n",
    "            #   low=0, high = self.video_length - self.frame_length - self.ppg_offset, size = self.num_samps)\n",
    "            \n",
    "            for cur_frame_num in cur_frame_nums:\n",
    "                self.all_idxs.append((num,cur_frame_num))\n",
    "\n",
    "\n",
    "        #FFT parts\n",
    "        seq_len = self.frame_length*self.fft_resolution\n",
    "        \n",
    "        freqs_bpm = np.fft.fftfreq(int(seq_len), d=1/self.fs) * 60\n",
    "        self.l_freq_idx = np.argmin(np.abs(freqs_bpm - self.l_freq_bpm))\n",
    "        self.u_freq_idx = np.argmin(np.abs(freqs_bpm - self.u_freq_bpm))\n",
    "        print(self.l_freq_idx, self.u_freq_idx)\n",
    "        print(freqs_bpm[self.l_freq_idx], freqs_bpm[self.u_freq_idx])\n",
    "        assert self.l_freq_idx < self.u_freq_idx\n",
    "\n",
    "            \n",
    "            \n",
    "    def __len__(self):\n",
    "        return int(len(self.all_idxs))\n",
    "    def __getitem__(self, idx):\n",
    "        video_number, frame_start = self.all_idxs[idx]\n",
    "        # video_number = self.video_nums[idx]\n",
    "        # frame_start = np.random.choice(self.frame_nums)\n",
    "        #Get video_frames\n",
    "\n",
    "        item = self.item_list[int(video_number)][:,int(frame_start):int(frame_start+self.frame_length)]\n",
    "        item = (item-np.mean(item,axis=1,keepdims=True))/np.std(item,axis=1,keepdims=True)\n",
    "        #Get signal\n",
    "        item_sig = self.signal_list[int(video_number)][int(frame_start):int(frame_start+self.frame_length)]\n",
    "\n",
    "        # print(item.shape)\n",
    "        # print(item_sig.shape)\n",
    "        \n",
    "        # if self.compute_fft:\n",
    "        # n_curr = len(item_sig) * self.fft_resolution\n",
    "        # fft_gt  = np.abs(np.fft.fft(item_sig, n=int(n_curr), axis=0))\n",
    "        # fft_gt = fft_gt / np.max(fft_gt, axis=0)\n",
    "        \n",
    "        # fft_est = np.abs(np.fft.fft(item, n=int(n_curr), axis=1))\n",
    "        # fft_est = fft_est / np.max(fft_est)#np.max(fft_est, axis=1)\n",
    "        # fft_est = fft_est[:,self.l_freq_idx : self.u_freq_idx + 1]\n",
    "\n",
    "        return item, item_sig\n",
    "        \n",
    "        \n",
    "        # #Patch for torch constructor not accepting uint16 datatypes\n",
    "        # if(item.dtype == np.uint16):\n",
    "        #     item = item.astype(np.int32)\n",
    "        # return np.array(item), np.array(item_sig)\n",
    "\n",
    "\n",
    "    # def lowPassFilter(self, BVP, butter_order=4):\n",
    "    #     [b, a] = sig.butter(butter_order, [self.l_freq_bpm/60, self.u_freq_bpm/60], btype='bandpass', fs = self.fs)\n",
    "    #     filtered_BVP = sig.filtfilt(b, a, np.double(BVP))\n",
    "    #     return filtered_BVP"
   ]
  },
  {
   "cell_type": "code",
   "execution_count": 6,
   "metadata": {
    "id": "7z0WpPowS0wg"
   },
   "outputs": [],
   "source": [
    "def extract_video(path, cur_session):\n",
    "    length_seg = 300\n",
    "    vid = np.zeros((3,900))\n",
    "    for j in range(3): #number of segments\n",
    "        video_rd = np.load(os.path.join(path, 'residual_'+str(j*length_seg)+'_'+cur_session+'.npy'))\n",
    "\n",
    "        temp = np.mean(np.mean(video_rd,axis=1),axis=1)\n",
    "        temp = np.transpose(temp,(1,0))\n",
    "        vid[:,j*length_seg:(j+1)*length_seg] = temp\n",
    "\n",
    "#             vid.append(np.mean(np.mean(image,axis=0),axis=0))\n",
    "\n",
    "    return vid #should be of shape 3x900\n",
    "\n",
    "##Eval model\n",
    "def eval_model(root_dir, session_names, model, in_frames=64, \n",
    "               hr_window_size = 300, stride = 128, video_fps = 30, ppg_offset = 25, fft_resolution=48):\n",
    "    model.eval()#!!!\n",
    "    video_samples = []\n",
    "    for cur_session in session_names:\n",
    "        video_sample = {\"video_path\" : root_dir, \"cur_session\" : cur_session}\n",
    "        video_samples.append(video_sample)\n",
    "\n",
    "\n",
    "    #Get indices for FFT\n",
    "    #TODO: band limit dependencies. clean this up\n",
    "    l_freq_bpm = 45\n",
    "    u_freq_bpm = 180\n",
    "\n",
    "    for cur_video_sample in tqdm(video_samples):\n",
    "        cur_video_path = cur_video_sample[\"video_path\"]\n",
    "        cur_session = cur_video_sample[\"cur_session\"]\n",
    "\n",
    "        frames = extract_video(path=cur_video_path, cur_session=cur_session) # (900, 128, 128, 3)\n",
    "        target = np.load(os.path.join(cur_video_path, cur_session+'.npy'))\n",
    "        ##Apply offset to target\n",
    "        target = target[ppg_offset:]\n",
    "\n",
    "\n",
    "\n",
    "        #Normalize target\n",
    "        target = (target-np.mean(target,axis=0,keepdims=True))/np.std(target,axis=0,keepdims=True)\n",
    "\n",
    "        #get the start indices\n",
    "        start_indices = np.arange(0,frames.shape[-1]+1-ppg_offset-hr_window_size,stride)\n",
    "        \n",
    "\n",
    "        batched_ip = []\n",
    "        batched_tgt = []\n",
    "\n",
    "        for ix in start_indices:\n",
    "            temp_ip = frames[:,ix:ix+hr_window_size]\n",
    "            temp_ip = (temp_ip-np.mean(temp_ip,axis=1,keepdims=True))/np.std(temp_ip,axis=1,keepdims=True)\n",
    "            #Take FFT\n",
    "            \n",
    "\n",
    "            batched_ip.append(temp_ip)\n",
    "\n",
    "\n",
    "            temp_tgt = target[ix:ix+hr_window_size]\n",
    "            \n",
    "            batched_tgt.append(temp_tgt)\n",
    "\n",
    "        batched_ip = torch.Tensor(np.array(batched_ip)).to(device)\n",
    "        # batched_tgt = torch.Tensor(np.array(batched_tgt)).to(device)\n",
    "        batched_tgt = np.array(batched_tgt) #B,fft_size\n",
    "\n",
    "\n",
    "        # Potential High GPU usage\n",
    "        # A batch_size of approx 14\n",
    "        \n",
    "\n",
    "        with torch.no_grad():\n",
    "            est_ppg_ffts = model(batched_ip)\n",
    "            # (14, 64)\n",
    "            est_ppg_ffts = est_ppg_ffts.squeeze().cpu().numpy() #Size: B,fft_size\n",
    "\n",
    "       # Save\n",
    "        cur_video_sample['est_ppg_ffts'] = est_ppg_ffts\n",
    "        cur_video_sample['gt_ppg_ffts'] = batched_tgt\n",
    "    print('All finished!')\n",
    "\n",
    "    #Estimate using waveforms\n",
    "    mae_list = []\n",
    "    all_hr_est = []\n",
    "    all_hr_gt = []\n",
    "    for index, cur_video_sample in enumerate(video_samples):\n",
    "        cur_video_path = cur_video_sample['video_path']\n",
    "        # print('Video:', cur_video_path)\n",
    "        est_ppg_ffts = cur_video_sample['est_ppg_ffts']\n",
    "        # Load GT\n",
    "        gt_ppg_ffts = cur_video_sample['gt_ppg_ffts']\n",
    "\n",
    "        #Just need to iterate over batch dimension and\n",
    "\n",
    "        # Get est HR for each window\n",
    "        hr_est_temp = []\n",
    "        hr_gt_temp = []\n",
    "        for ixx in range(est_ppg_ffts.shape[0]):\n",
    "            est_hr = prpsd2(est_ppg_ffts[ixx], 30, 45, 150, BUTTER_ORDER=6, DETREND=False)\n",
    "            gt_hr = prpsd2(gt_ppg_ffts[ixx], 30, 45, 150, BUTTER_ORDER=6, DETREND=False)\n",
    "            hr_est_temp.append(est_hr)\n",
    "            hr_gt_temp.append(gt_hr)\n",
    "\n",
    "        hr_est_windowed = np.array([hr_est_temp])\n",
    "        hr_gt_windowed = np.array(hr_gt_temp)\n",
    "        all_hr_est.append(hr_est_temp)\n",
    "        all_hr_gt.append(hr_gt_temp)\n",
    "\n",
    "        # Errors\n",
    "        RMSE, MAE, MAX, PCC = getErrors(hr_est_windowed, hr_gt_windowed)\n",
    "\n",
    "        mae_list.append(MAE)\n",
    "    print('Mean MAE:', np.mean(np.array(mae_list)))\n",
    "    return np.array(mae_list), (all_hr_est, all_hr_gt)\n"
   ]
  },
  {
   "cell_type": "code",
   "execution_count": 7,
   "metadata": {
    "id": "U1H2MspBw_Ck"
   },
   "outputs": [],
   "source": [
    "def prpsdFFT(BVP, FS, LL_PR, UL_PR, WIN_SZ, FFT_RES):\n",
    "    #BVP has shape (k,)\n",
    "    \n",
    "    l_freq_bpm = LL_PR\n",
    "    u_freq_bpm = UL_PR\n",
    "    seq_len = WIN_SZ*FFT_RES\n",
    "    freqs_bpm = np.fft.fftfreq(int(seq_len), d=1/FS) * 60\n",
    "\n",
    "    base_ix = np.argmin(np.abs(freqs_bpm - l_freq_bpm))\n",
    "    #We can now index the above to get the final index\n",
    "    #Input is a PSD. We just find the argmax\n",
    "    max_ix = np.argmax(BVP)\n",
    "\n",
    "    hr = freqs_bpm[base_ix+max_ix]\n",
    "            \n",
    "    return hr\n",
    "\n",
    "def prpsd2(BVP, FS, LL_PR, UL_PR, BUTTER_ORDER=6, DETREND=False, PlotTF=False, FResBPM = 0.1):\n",
    "    '''\n",
    "    Estimates pulse rate from the power spectral density a BVP signal\n",
    "    \n",
    "    Inputs\n",
    "        BVP              : A BVP timeseries. (1d numpy array)\n",
    "        fs               : The sample rate of the BVP time series (Hz/fps). (int)\n",
    "        lower_cutoff_bpm : The lower limit for pulse rate (bpm). (int)\n",
    "        upper_cutoff_bpm : The upper limit for pulse rate (bpm). (int)\n",
    "        butter_order     : Order of the Butterworth Filter. (int)\n",
    "        detrend          : Detrend the input signal. (bool)\n",
    "        FResBPM          : Resolution (bpm) of bins in power spectrum used to determine pulse rate and SNR. (float)\n",
    "    \n",
    "    Outputs\n",
    "        pulse_rate       : The estimated pulse rate in BPM. (float)\n",
    "    \n",
    "    Daniel McDuff, Ethan Blackford, January 2019\n",
    "    Copyright (c)\n",
    "    Licensed under the MIT License and the RAIL AI License.\n",
    "    '''\n",
    "    from scipy.signal import butter\n",
    "    from scipy import signal\n",
    "    import numpy as np\n",
    "\n",
    "    N = (60*FS)/FResBPM\n",
    "\n",
    "    # Detrending + nth order butterworth + periodogram\n",
    "#     if DETREND:\n",
    "#         BVP = detrend(np.cumsum(BVP), 100)\n",
    "#     if BUTTER_ORDER:\n",
    "    [b, a] = signal.butter(BUTTER_ORDER, [LL_PR/60, UL_PR/60], btype='bandpass', fs = FS)\n",
    "    \n",
    "    BVP = signal.filtfilt(b, a, np.double(BVP))\n",
    "    \n",
    "    # Calculate the PSD and the mask for the desired range\n",
    "#     if detrend:\n",
    "    F, Pxx = signal.periodogram(x=BVP,  nfft=N, fs=FS, detrend=False);  \n",
    "#     else:\n",
    "#         F, Pxx = signal.periodogram(x=BVP, window=np.hanning(len(BVP)), nfft=N, fs=FS)\n",
    "    FMask = (F >= (LL_PR/60)) & (F <= (UL_PR/60))\n",
    "    \n",
    "    # Calculate predicted pulse rate:\n",
    "    FRange = F * FMask\n",
    "    PRange = Pxx * FMask\n",
    "    MaxInd = np.argmax(PRange)\n",
    "    pulse_rate_freq = FRange[MaxInd]\n",
    "    pulse_rate = pulse_rate_freq*60\n",
    "\n",
    "    # Optionally Plot the PSD and peak frequency\n",
    "    if PlotTF:\n",
    "        # Plot PSD (in dB) and peak frequency\n",
    "        plt.figure()\n",
    "        plt.plot(F, 10 * np.log10(Pxx))\n",
    "        plt.plot(pulse_rate_freq, 10 * np.log10(PRange[MaxInd]),'ro')\n",
    "        plt.xlabel('Frequency (Hz)')\n",
    "        plt.ylabel('Power (dB)')\n",
    "        plt.xlim([0, 4.5])\n",
    "        plt.title('Power Spectrum and Peak Frequency')\n",
    "            \n",
    "    return pulse_rate"
   ]
  },
  {
   "cell_type": "code",
   "execution_count": 8,
   "metadata": {
    "colab": {
     "base_uri": "https://localhost:8080/"
    },
    "executionInfo": {
     "elapsed": 213856,
     "status": "ok",
     "timestamp": 1672890126548,
     "user": {
      "displayName": "Pradyumna Chari",
      "userId": "06555723454452599039"
     },
     "user_tz": 480
    },
    "id": "lsfi3Q5OgPgp",
    "outputId": "45760260-c7db-4676-9f60-ef6fe8da2314",
    "scrolled": true
   },
   "outputs": [
    {
     "name": "stdout",
     "output_type": "stream",
     "text": [
      "['v_7_1', 'v_7_2', 'v_7_3', 'v_7_4', 'v_7_5', 'v_7_6', 'v_95_1', 'v_95_2', 'v_95_3', 'v_95_4', 'v_95_5', 'v_95_6', 'v_11_1', 'v_11_2', 'v_11_3', 'v_11_4', 'v_11_5', 'v_11_6', 'v_15_1', 'v_15_2', 'v_15_3', 'v_15_4', 'v_15_5', 'v_15_6', 'v_32_2', 'v_32_3', 'v_32_4', 'v_32_5', 'v_32_6', 'v_1_1', 'v_1_2', 'v_1_3', 'v_1_4', 'v_1_5', 'v_1_6', 'v_14_1', 'v_14_2', 'v_14_3', 'v_14_4', 'v_14_5', 'v_14_6', 'v_14_7', 'v_5_1', 'v_5_2', 'v_5_3', 'v_5_4', 'v_5_5', 'v_5_6', 'v_40_1', 'v_40_2', 'v_40_3', 'v_40_4', 'v_40_5', 'v_40_6', 'v_23_1', 'v_23_2', 'v_23_3', 'v_23_4', 'v_23_5', 'v_23_6', 'v_53_1', 'v_53_2', 'v_53_3', 'v_53_4', 'v_53_5', 'v_53_6', 'v_83_1', 'v_83_2', 'v_83_3', 'v_83_4', 'v_83_5', 'v_83_6', 'v_57_1', 'v_57_2', 'v_57_3', 'v_57_4', 'v_57_5', 'v_57_6', 'v_45_1', 'v_45_2', 'v_45_3', 'v_45_4', 'v_45_5', 'v_45_6', 'v_60_1', 'v_60_2', 'v_60_3', 'v_60_4', 'v_60_5', 'v_60_6', 'v_90_1', 'v_90_2', 'v_90_3', 'v_90_4', 'v_90_5', 'v_90_6', 'v_19_1', 'v_19_2', 'v_19_3', 'v_19_4', 'v_19_5', 'v_19_6', 'v_28_1', 'v_28_2', 'v_28_3', 'v_28_4', 'v_28_5', 'v_28_6', 'v_54_1', 'v_54_2', 'v_54_3', 'v_54_4', 'v_54_5', 'v_54_6', 'v_84_1', 'v_84_2', 'v_84_3', 'v_84_4', 'v_84_5', 'v_84_6', 'v_8_2', 'v_8_3', 'v_8_4', 'v_8_5', 'v_8_6', 'v_100_1', 'v_100_2', 'v_100_3', 'v_100_4', 'v_100_5', 'v_100_6', 'v_44_1', 'v_44_2', 'v_44_3', 'v_44_4', 'v_44_5', 'v_44_6', 'v_39_1', 'v_39_2', 'v_39_3', 'v_39_4', 'v_39_5', 'v_39_6', 'v_34_1', 'v_34_2', 'v_34_3', 'v_34_4', 'v_34_5', 'v_34_6', 'v_47_1', 'v_47_2', 'v_47_3', 'v_47_4', 'v_47_5', 'v_47_6', 'v_49_1', 'v_49_2', 'v_49_3', 'v_49_4', 'v_49_5', 'v_49_6', 'v_37_1', 'v_37_2', 'v_37_3', 'v_37_4', 'v_37_5', 'v_37_6', 'v_27_1', 'v_27_2', 'v_27_3', 'v_27_4', 'v_27_5', 'v_27_6', 'v_59_1', 'v_59_2', 'v_59_3', 'v_59_4', 'v_59_5', 'v_59_6', 'v_42_1', 'v_42_2', 'v_42_3', 'v_42_4', 'v_42_5', 'v_42_6', 'v_87_1', 'v_87_2', 'v_87_3', 'v_87_4', 'v_87_5', 'v_87_6', 'v_55_1', 'v_55_2', 'v_55_3', 'v_55_4', 'v_55_5', 'v_55_6', 'v_69_1', 'v_69_2', 'v_69_3', 'v_69_4', 'v_69_5', 'v_69_6', 'v_96_1', 'v_96_2', 'v_96_3', 'v_96_4', 'v_96_5', 'v_96_6', 'v_29_1', 'v_29_2', 'v_29_3', 'v_29_4', 'v_29_5', 'v_29_6', 'v_64_1', 'v_64_2', 'v_64_3', 'v_64_4', 'v_64_5', 'v_64_6', 'v_56_1', 'v_56_2', 'v_56_3', 'v_56_4', 'v_56_5', 'v_56_6', 'v_33_1', 'v_33_2', 'v_33_3', 'v_33_4', 'v_33_5', 'v_33_6', 'v_9_1', 'v_9_2', 'v_9_3', 'v_9_4', 'v_9_5', 'v_9_6']\n",
      "['v_91_1', 'v_91_2', 'v_91_3', 'v_91_4', 'v_91_5', 'v_91_6', 'v_50_1', 'v_50_2', 'v_50_3', 'v_50_4', 'v_50_5', 'v_50_6', 'v_58_1', 'v_58_2', 'v_58_3', 'v_58_4', 'v_58_5', 'v_58_6', 'v_3_1', 'v_3_2', 'v_3_3', 'v_3_4', 'v_3_5', 'v_3_6', 'v_92_1', 'v_92_2', 'v_92_3', 'v_92_4', 'v_92_5', 'v_92_6', 'v_4_1', 'v_4_2', 'v_4_3', 'v_4_4', 'v_4_5', 'v_4_6', 'v_36_1', 'v_36_2', 'v_36_3', 'v_36_4', 'v_36_5', 'v_36_6', 'v_89_1', 'v_89_2', 'v_89_3', 'v_89_4', 'v_89_5', 'v_89_6', 'v_24_1', 'v_24_2', 'v_24_3', 'v_24_4', 'v_24_5', 'v_24_6', 'v_13_1', 'v_13_2', 'v_13_3', 'v_13_4', 'v_13_5', 'v_13_6', 'v_13_7', 'v_67_1', 'v_67_2', 'v_67_3', 'v_67_4', 'v_67_5', 'v_67_6', 'v_82_1', 'v_82_2', 'v_82_3', 'v_82_4', 'v_82_5', 'v_82_6', 'v_35_1', 'v_35_2', 'v_35_3', 'v_35_4', 'v_35_5', 'v_35_6', 'v_97_1', 'v_97_2', 'v_97_3', 'v_97_4', 'v_97_5', 'v_97_6', 'v_81_1', 'v_81_2', 'v_81_3', 'v_81_4', 'v_81_5', 'v_81_6', 'v_66_1', 'v_66_2', 'v_66_3', 'v_66_4', 'v_66_6', 'v_6_1', 'v_6_2', 'v_6_3', 'v_6_4', 'v_6_5', 'v_6_6', 'v_85_1', 'v_85_2', 'v_85_3', 'v_85_4', 'v_85_5', 'v_85_6', 'v_43_1', 'v_43_2', 'v_43_3', 'v_43_4', 'v_43_5', 'v_43_6', 'v_68_1', 'v_68_2', 'v_68_3', 'v_68_4', 'v_68_5', 'v_68_6', 'v_68_7', 'v_98_1', 'v_98_2', 'v_98_3', 'v_98_4', 'v_98_5', 'v_98_6', 'v_2_1', 'v_2_2', 'v_2_3', 'v_2_4', 'v_2_5', 'v_2_6', 'v_2_7', 'v_38_1', 'v_38_2', 'v_38_3', 'v_38_4', 'v_38_5', 'v_38_6', 'v_63_1', 'v_63_2', 'v_63_3', 'v_63_4', 'v_63_5', 'v_63_6', 'v_86_1', 'v_86_2', 'v_86_3', 'v_86_4', 'v_86_5', 'v_86_6', 'v_75_1', 'v_75_2', 'v_75_3', 'v_75_4', 'v_75_5', 'v_75_6', 'v_22_1', 'v_22_2', 'v_22_3', 'v_22_4', 'v_22_5', 'v_22_6', 'v_18_1', 'v_18_2', 'v_18_3', 'v_18_4', 'v_18_5', 'v_18_6', 'v_48_1', 'v_48_2', 'v_48_3', 'v_48_4', 'v_48_5', 'v_48_6', 'v_31_1', 'v_31_2', 'v_31_3', 'v_31_4', 'v_31_5', 'v_31_6', 'v_99_1', 'v_99_2', 'v_99_3', 'v_99_4', 'v_99_5', 'v_99_6', 'v_61_1', 'v_61_2', 'v_61_3', 'v_61_4', 'v_61_5', 'v_61_6', 'v_16_1', 'v_16_2', 'v_16_3', 'v_16_4', 'v_16_5', 'v_16_6', 'v_93_1', 'v_93_2', 'v_93_3', 'v_93_4', 'v_93_5', 'v_93_6', 'v_94_1', 'v_94_2', 'v_94_3', 'v_94_4', 'v_94_5', 'v_94_6', 'v_80_1', 'v_80_2', 'v_80_3', 'v_80_4', 'v_80_5', 'v_80_6', 'v_79_1', 'v_79_2', 'v_79_3', 'v_79_4', 'v_79_5', 'v_79_6', 'v_101_1', 'v_101_2', 'v_101_3', 'v_101_4', 'v_101_5', 'v_101_6', 'v_74_1', 'v_74_2', 'v_74_3', 'v_74_4', 'v_74_5', 'v_74_6']\n",
      "239 236 72\n",
      "360 1440\n",
      "45.0 180.0\n",
      "v_10_1  doesn't exist.\n",
      "v_10_2  doesn't exist.\n",
      "v_10_3  doesn't exist.\n",
      "v_10_4  doesn't exist.\n",
      "v_10_5  doesn't exist.\n",
      "v_10_6  doesn't exist.\n",
      "removed v_10_1\n",
      "removed v_10_2\n",
      "removed v_10_3\n",
      "removed v_10_4\n",
      "removed v_10_5\n",
      "removed v_10_6\n",
      "360 1440\n",
      "45.0 180.0\n",
      "v_3_1  doesn't exist.\n",
      "v_3_2  doesn't exist.\n",
      "v_3_3  doesn't exist.\n",
      "v_3_4  doesn't exist.\n",
      "v_3_5  doesn't exist.\n",
      "v_3_6  doesn't exist.\n",
      "v_89_1  doesn't exist.\n",
      "v_2_7  doesn't exist.\n",
      "removed v_3_1\n",
      "removed v_3_2\n",
      "removed v_3_3\n",
      "removed v_3_4\n",
      "removed v_3_5\n",
      "removed v_3_6\n",
      "removed v_89_1\n",
      "removed v_2_7\n",
      "360 1440\n",
      "45.0 180.0\n",
      "239 228 66\n"
     ]
    }
   ],
   "source": [
    "import pickle\n",
    "\n",
    "destination_folder = \"/home/pradyumnachari/Documents/ImplicitPPG/ResidualData/NpyRes/\"\n",
    "\n",
    "fitz_labels_path = \"/home/pradyumnachari/Documents/ImplicitPPG/SIGGRAPH_Data/fitzpatrick_labels.pkl\"\n",
    "\n",
    "with open(\"/home/pradyumnachari/Documents/ImplicitPPG/SIGGRAPH_Data/train_val_test_folds_ld_max.pkl\", \"rb\") as fpf:\n",
    "        out = pickle.load(fpf)\n",
    "\n",
    "train = out[3][\"train\"]\n",
    "val = out[3][\"val\"]\n",
    "test = out[3][\"test\"]\n",
    "\n",
    "print(train)\n",
    "print(test)\n",
    "print(len(train), len(test), len(val))\n",
    "#Dataset\n",
    "dataset = RppgData2(datapath=destination_folder, datapaths=train, recording_str=\"rgbd_rgb\")\n",
    "dataset_val = RppgData2(datapath=destination_folder, datapaths=val, recording_str=\"rgbd_rgb\")\n",
    "dataset_test = RppgData2(datapath=destination_folder, datapaths=test, recording_str=\"rgbd_rgb\")\n",
    "\n",
    "print(len(train), len(test), len(val))"
   ]
  },
  {
   "cell_type": "code",
   "execution_count": 9,
   "metadata": {
    "id": "45IFN6rggeWx"
   },
   "outputs": [],
   "source": [
    "train_dataloader = DataLoader(dataset, batch_size=64, shuffle=True, num_workers = 2)\n",
    "test_dataloader  = DataLoader(dataset_test, batch_size=64, shuffle=True, num_workers = 2)"
   ]
  },
  {
   "cell_type": "code",
   "execution_count": 10,
   "metadata": {
    "id": "OL8TYkWjg3DB"
   },
   "outputs": [],
   "source": [
    "# print(dataset.vital_mean, dataset.vital_std)"
   ]
  },
  {
   "cell_type": "code",
   "execution_count": 11,
   "metadata": {
    "colab": {
     "base_uri": "https://localhost:8080/",
     "height": 1000
    },
    "executionInfo": {
     "elapsed": 652,
     "status": "ok",
     "timestamp": 1672890127356,
     "user": {
      "displayName": "Pradyumna Chari",
      "userId": "06555723454452599039"
     },
     "user_tz": 480
    },
    "id": "bxHL640Jg6U1",
    "outputId": "9ac59d15-d521-433c-e713-d571a0369987"
   },
   "outputs": [
    {
     "name": "stdout",
     "output_type": "stream",
     "text": [
      "113 107\n",
      "(3, 300) float64 (300,)\n",
      "(3, 300) (300,)\n"
     ]
    },
    {
     "data": {
      "text/plain": [
       "[<matplotlib.lines.Line2D at 0x7efc2030a7d0>]"
      ]
     },
     "execution_count": 11,
     "metadata": {},
     "output_type": "execute_result"
    },
    {
     "data": {
      "image/png": "[encoded data removed]",
      "text/plain": [
       "<Figure size 432x288 with 1 Axes>"
      ]
     },
     "metadata": {
      "needs_background": "light"
     },
     "output_type": "display_data"
    },
    {
     "data": {
      "image/png": "[encoded data removed]",
      "text/plain": [
       "<Figure size 432x288 with 1 Axes>"
      ]
     },
     "metadata": {
      "needs_background": "light"
     },
     "output_type": "display_data"
    },
    {
     "data": {
      "image/png": "[encoded data removed]",
      "text/plain": [
       "<Figure size 432x288 with 1 Axes>"
      ]
     },
     "metadata": {
      "needs_background": "light"
     },
     "output_type": "display_data"
    },
    {
     "data": {
      "image/png": "[encoded data removed]",
      "text/plain": [
       "<Figure size 432x288 with 1 Axes>"
      ]
     },
     "metadata": {
      "needs_background": "light"
     },
     "output_type": "display_data"
    }
   ],
   "source": [
    "print(len(train_dataloader), len(test_dataloader))\n",
    "\n",
    "# Visualize some examples\n",
    "for i in range(len(dataset)):\n",
    "    train_batch, train_batch_sig = dataset[i]\n",
    "    break\n",
    "\n",
    "print(train_batch.shape, train_batch.dtype, train_batch_sig.shape)\n",
    "\n",
    "plt.figure()\n",
    "plt.plot(np.transpose(train_batch, (1,0)))\n",
    "plt.figure()\n",
    "plt.plot(train_batch_sig)\n",
    "\n",
    "for i in range(len(dataset_test)):\n",
    "    test_batch, test_batch_sig = dataset_test[i]\n",
    "    break\n",
    "\n",
    "print(test_batch.shape, test_batch_sig.shape)\n",
    "\n",
    "plt.figure()\n",
    "plt.plot(np.transpose(test_batch, (1,0)))\n",
    "plt.figure()\n",
    "plt.plot(test_batch_sig)"
   ]
  },
  {
   "cell_type": "code",
   "execution_count": 12,
   "metadata": {
    "colab": {
     "base_uri": "https://localhost:8080/"
    },
    "executionInfo": {
     "elapsed": 9,
     "status": "ok",
     "timestamp": 1672890127476,
     "user": {
      "displayName": "Pradyumna Chari",
      "userId": "06555723454452599039"
     },
     "user_tz": 480
    },
    "id": "UnUIKN4BlN60",
    "outputId": "be258801-3b6a-4d00-b761-e64b7687eee5"
   },
   "outputs": [
    {
     "name": "stdout",
     "output_type": "stream",
     "text": [
      "Checkpoints will be saved in /home/pradyumnachari/Documents/ImplicitPPG/checkpoints/fold4_AverageTimeseries_residual_lam3_fixedSamp\n"
     ]
    }
   ],
   "source": [
    "#Set Checkpoint Directory\n",
    "colab_filename = 'fold4_AverageTimeseries_residual_lam3_fixedSamp'\n",
    "ckpt_parent_path = '/home/pradyumnachari/Documents/ImplicitPPG/checkpoints'\n",
    "assert os.path.exists(ckpt_parent_path), \"Check folder to save checkpoint\"\n",
    "ckpt_path = os.path.join(ckpt_parent_path, colab_filename)\n",
    "os.makedirs(ckpt_path, exist_ok=True)\n",
    "print(f\"Checkpoints will be saved in {ckpt_path}\")"
   ]
  },
  {
   "cell_type": "code",
   "execution_count": 13,
   "metadata": {
    "colab": {
     "base_uri": "https://localhost:8080/"
    },
    "executionInfo": {
     "elapsed": 8,
     "status": "ok",
     "timestamp": 1672890127477,
     "user": {
      "displayName": "Pradyumna Chari",
      "userId": "06555723454452599039"
     },
     "user_tz": 480
    },
    "id": "9l0ED1COWv63",
    "outputId": "d66cb8ac-994b-4429-bdca-1fd0f8021fd6"
   },
   "outputs": [
    {
     "name": "stdout",
     "output_type": "stream",
     "text": [
      "No checkpoints found, starting from scratch!\n"
     ]
    }
   ],
   "source": [
    "#Check if Checkpoints exist\n",
    "paths = os.listdir(ckpt_path)\n",
    "if(len(paths) > 0):\n",
    "    paths.sort() \n",
    "    last_checkpoint = os.path.join(ckpt_path, paths[-1])\n",
    "\n",
    "    print(\"Checkpoints already exist-\")\n",
    "    print(paths)\n",
    "    print(\"Last checkpoint set to -\")\n",
    "    print(last_checkpoint)\n",
    "else:\n",
    "  print(\"No checkpoints found, starting from scratch!\")\n",
    "    "
   ]
  },
  {
   "cell_type": "code",
   "execution_count": 14,
   "metadata": {
    "id": "_BxlO_PRUP23"
   },
   "outputs": [],
   "source": [
    "from torch import nn\n",
    "class PlethRegressor(nn.Module):\n",
    "    def __init__(self, inp_len, out_len, latent=512):\n",
    "        super(PlethRegressor, self).__init__()\n",
    "        self.inp_len = inp_len\n",
    "        self.latent = latent\n",
    "        self.out_len = out_len\n",
    "        self.Enc1 = nn.Sequential(\n",
    "            nn.Conv1d(3, 64, kernel_size=9, stride=1,padding=4),\n",
    "            nn.BatchNorm1d(64),\n",
    "            nn.ReLU(),\n",
    "        )\n",
    "        self.Enc2 = nn.Sequential(\n",
    "            nn.Conv1d(64, 128, kernel_size=9, stride=1,padding=4),\n",
    "            nn.BatchNorm1d(128),\n",
    "            nn.ReLU(),\n",
    "        )\n",
    "        self.Enc3 = nn.Sequential(\n",
    "            nn.Conv1d(128, 128, kernel_size=9, stride=1,padding=4),\n",
    "            nn.BatchNorm1d(128),\n",
    "            nn.ReLU(),\n",
    "        )\n",
    "        self.Enc4 = nn.Sequential(\n",
    "            nn.Conv1d(128, 128, kernel_size=9, stride=1,padding=4),\n",
    "            nn.BatchNorm1d(128),\n",
    "            nn.ReLU(),\n",
    "        )\n",
    "        \n",
    "        self.Dec1 = nn.Sequential(\n",
    "            nn.Conv1d(128, 128, kernel_size=9, stride=1,padding=4),\n",
    "            nn.BatchNorm1d(128),\n",
    "            nn.ReLU(),\n",
    "        )\n",
    "        self.Dec2 = nn.Sequential(\n",
    "            nn.Conv1d(128, 128, kernel_size=9, stride=1,padding=4),\n",
    "            nn.BatchNorm1d(128),\n",
    "            nn.ReLU(),\n",
    "        )\n",
    "        self.Dec3 = nn.Sequential(\n",
    "            nn.Conv1d(128, 64, kernel_size=9, stride=1,padding=4),\n",
    "            nn.BatchNorm1d(64),\n",
    "            nn.ReLU(),\n",
    "        )\n",
    "        self.Dec4 = nn.Sequential(\n",
    "            nn.Conv1d(64, 16, kernel_size=9, stride=1,padding=4),\n",
    "            nn.BatchNorm1d(16),\n",
    "            nn.ReLU(),\n",
    "        )\n",
    "        self.FinalLayer   = nn.Conv1d(16, 1, kernel_size=1, stride=1)\n",
    "    def forward(self, inp):\n",
    "        inp = self.Enc1(inp)\n",
    "        inp = self.Enc2(inp)\n",
    "        inp = self.Enc3(inp)\n",
    "        inp = self.Enc4(inp)\n",
    "        inp = self.Dec1(inp)\n",
    "        inp = self.Dec2(inp)\n",
    "        inp = self.Dec3(inp)\n",
    "        inp = self.Dec4(inp)\n",
    "        output_signal = self.FinalLayer(inp)\n",
    "        return torch.squeeze(output_signal, 1)\n",
    "\n",
    "class PlethRegressorLinear(nn.Module):\n",
    "    def __init__(self, inp_len, out_len, latent=512):\n",
    "        super(PlethRegressorLinear, self).__init__()\n",
    "        self.inp_len = inp_len\n",
    "        self.latent = latent\n",
    "        self.out_len = out_len\n",
    "        self.Enc1 = nn.Sequential(\n",
    "            nn.Linear(inp_len*3, latent),\n",
    "            # nn.BatchNorm1d(64),\n",
    "            nn.ReLU(),\n",
    "        )\n",
    "        self.Enc2 = nn.Sequential(\n",
    "            nn.Linear(latent, latent),\n",
    "            # nn.BatchNorm1d(64),\n",
    "            nn.ReLU(),\n",
    "        )\n",
    "        self.Enc3 = nn.Sequential(\n",
    "            nn.Linear(latent, latent),\n",
    "            # nn.BatchNorm1d(64),\n",
    "            nn.ReLU(),\n",
    "        )\n",
    "        self.Enc4 = nn.Sequential(\n",
    "            nn.Linear(latent, latent),\n",
    "            # nn.BatchNorm1d(64),\n",
    "            nn.ReLU(),\n",
    "        )\n",
    "        \n",
    "        self.Dec1 = nn.Sequential(\n",
    "            nn.Linear(latent, latent),\n",
    "            # nn.BatchNorm1d(64),\n",
    "            nn.ReLU(),\n",
    "        )\n",
    "        self.Dec2 = nn.Sequential(\n",
    "            nn.Linear(latent, latent),\n",
    "            # nn.BatchNorm1d(64),\n",
    "            nn.ReLU(),\n",
    "        )\n",
    "        self.Dec3 = nn.Sequential(\n",
    "            nn.Linear(latent, latent),\n",
    "            # nn.BatchNorm1d(64),\n",
    "            nn.ReLU(),\n",
    "        )\n",
    "        self.Dec4 = nn.Sequential(\n",
    "            nn.Linear(latent, latent),\n",
    "            # nn.BatchNorm1d(64),\n",
    "            nn.ReLU(),\n",
    "        )\n",
    "        self.FinalLayer   = nn.Linear(latent, out_len)\n",
    "    def forward(self, inp):\n",
    "        inp = torch.reshape(inp,(inp.shape[0],-1))\n",
    "        inp = self.Enc1(inp)\n",
    "        inp = self.Enc2(inp)\n",
    "        inp = self.Enc3(inp)\n",
    "        inp = self.Enc4(inp)\n",
    "        inp = self.Dec1(inp)\n",
    "        inp = self.Dec2(inp)\n",
    "        inp = self.Dec3(inp)\n",
    "        inp = self.Dec4(inp)\n",
    "        output_signal = self.FinalLayer(inp)\n",
    "        return output_signal#torch.squeeze(output_signal, 1)"
   ]
  },
  {
   "cell_type": "code",
   "execution_count": 15,
   "metadata": {
    "id": "FDyYvb2LMzhA"
   },
   "outputs": [],
   "source": [
    "import math\n",
    "import torch.nn as nn\n",
    "from torch.nn.modules.utils import _triple\n",
    "import torch as tr\n",
    "import pdb\n",
    "\n",
    "class SNRLoss_dB_Signals(nn.Module):\n",
    "  def __init__(self):\n",
    "    super(SNRLoss_dB_Signals, self).__init__()\n",
    "  def forward(self, outputs: tr.Tensor, targets: tr.Tensor, Fs=30):\n",
    "    device = outputs.device\n",
    "    if not outputs.is_cuda:\n",
    "      torch.backends.mkl.is_available()\n",
    "    N = 600#3*outputs.shape[-1] #1000#\n",
    "    N_samp = outputs.shape[-1]\n",
    "    #print(N)\n",
    "    pulse_band = tr.tensor([45/60., 180/60.], dtype=tr.float32).to(device)\n",
    "    wind_sz = int(1*N/64)#20\n",
    "\n",
    "    f = tr.linspace(0, Fs/2, int(N/2)+1, dtype=tr.float32).to(device)\n",
    "    # print(60*(f[1]-f[0]))\n",
    "    min_idx = tr.argmin(tr.abs(f - pulse_band[0]))\n",
    "    max_idx = tr.argmin(tr.abs(f - pulse_band[1]))\n",
    "    # print(min_idx,max_idx)\n",
    "\n",
    "    outputs = outputs.view(-1, N_samp)\n",
    "    targets = targets.view(-1, N_samp)\n",
    "\n",
    "    #Generate GT heart indices from GT signals\n",
    "    Y = torch.fft.rfft(targets, n=N, dim=1, norm='forward')\n",
    "    Y2 = tr.abs(Y) ** 2\n",
    "    HRixs = tr.argmax(Y2[:,min_idx:max_idx],axis=1)+min_idx\n",
    "\n",
    "    #print(outputs.shape)\n",
    "    X = torch.fft.rfft(outputs, n=N, dim=1, norm='forward')\n",
    "\n",
    "    P1 = tr.abs(X) ** 2\n",
    "    # print(HRixs)\n",
    "    # plt.figure()\n",
    "    # plt.plot(f,P1[0])\n",
    "    # plt.plot(f[HRixs[0]],P1[0,HRixs[0]],'rx')\n",
    "    # plt.plot(f[HRixs[0]-wind_sz],P1[0,HRixs[0]-wind_sz],'gx')\n",
    "    # plt.plot(f[HRixs[0]+wind_sz],P1[0,HRixs[0]+wind_sz],'gx')\n",
    "    # plt.grid('on')\n",
    "    # plt.show()\n",
    "\n",
    "    # calc SNR for each batch\n",
    "    losses = tr.empty((X.shape[0],), dtype=tr.float32)#.to(device)\n",
    "    for count, ref_idx in enumerate(HRixs):\n",
    "      pulse_freq_amp = tr.sum(P1[count, ref_idx-wind_sz:ref_idx+wind_sz])+tr.sum(P1[count, 2*ref_idx-wind_sz:2*ref_idx+wind_sz])\n",
    "      # other_avrg = (tr.sum(P1[count, min_idx:ref_idx-wind_sz]) + tr.sum(P1[count, ref_idx+wind_sz:max_idx]))\n",
    "      other_avrg = (tr.sum(P1[count, min_idx:ref_idx-wind_sz])+tr.sum(P1[count, ref_idx+wind_sz:2*ref_idx-wind_sz]) + tr.sum(P1[count, 2*ref_idx+wind_sz:max_idx]))\n",
    "      # print(pulse_freq_amp,other_avrg)\n",
    "      losses[count] = -10*tr.log10(pulse_freq_amp/(other_avrg+1e-7))\n",
    "    losses.to(device)\n",
    "    return tr.mean(losses)"
   ]
  },
  {
   "cell_type": "code",
   "execution_count": 16,
   "metadata": {
    "colab": {
     "base_uri": "https://localhost:8080/",
     "height": 1000
    },
    "executionInfo": {
     "elapsed": 795162,
     "status": "error",
     "timestamp": 1672890922635,
     "user": {
      "displayName": "Pradyumna Chari",
      "userId": "06555723454452599039"
     },
     "user_tz": 480
    },
    "id": "8_ri0LHHhdW0",
    "outputId": "cd82f79d-1f57-4232-c61a-1c46e21ff560"
   },
   "outputs": [
    {
     "name": "stderr",
     "output_type": "stream",
     "text": [
      "100%|█████████████████████████████████████████| 113/113 [00:21<00:00,  5.19it/s]\n",
      "100%|███████████████████████████████████████████| 66/66 [00:05<00:00, 11.65it/s]\n"
     ]
    },
    {
     "name": "stdout",
     "output_type": "stream",
     "text": [
      "All finished!\n",
      "Mean MAE: 1.499696969696969\n",
      "Best checkpoint saved!\n",
      "Saved Checkpoint!\n",
      "Epoch: 1 ; Loss: -13.082713\n"
     ]
    },
    {
     "name": "stderr",
     "output_type": "stream",
     "text": [
      "100%|█████████████████████████████████████████| 113/113 [00:17<00:00,  6.55it/s]\n",
      "100%|███████████████████████████████████████████| 66/66 [00:05<00:00, 11.68it/s]\n"
     ]
    },
    {
     "name": "stdout",
     "output_type": "stream",
     "text": [
      "All finished!\n",
      "Mean MAE: 1.6433333333333333\n",
      "Saved Checkpoint!\n",
      "Epoch: 2 ; Loss: -17.184459\n"
     ]
    },
    {
     "name": "stderr",
     "output_type": "stream",
     "text": [
      "100%|█████████████████████████████████████████| 113/113 [00:18<00:00,  6.23it/s]\n",
      "100%|███████████████████████████████████████████| 66/66 [00:05<00:00, 12.17it/s]\n"
     ]
    },
    {
     "name": "stdout",
     "output_type": "stream",
     "text": [
      "All finished!\n",
      "Mean MAE: 1.6881818181818187\n",
      "Saved Checkpoint!\n",
      "Epoch: 3 ; Loss: -19.362532\n"
     ]
    },
    {
     "name": "stderr",
     "output_type": "stream",
     "text": [
      "100%|█████████████████████████████████████████| 113/113 [00:18<00:00,  6.07it/s]\n",
      "100%|███████████████████████████████████████████| 66/66 [00:05<00:00, 11.05it/s]\n"
     ]
    },
    {
     "name": "stdout",
     "output_type": "stream",
     "text": [
      "All finished!\n",
      "Mean MAE: 1.8106060606060606\n",
      "Saved Checkpoint!\n",
      "Epoch: 4 ; Loss: -21.109943\n"
     ]
    },
    {
     "name": "stderr",
     "output_type": "stream",
     "text": [
      "100%|█████████████████████████████████████████| 113/113 [00:23<00:00,  4.86it/s]\n",
      "100%|███████████████████████████████████████████| 66/66 [00:05<00:00, 11.53it/s]\n"
     ]
    },
    {
     "name": "stdout",
     "output_type": "stream",
     "text": [
      "All finished!\n",
      "Mean MAE: 1.7242424242424246\n",
      "Saved Checkpoint!\n",
      "Epoch: 5 ; Loss: -22.797979\n"
     ]
    },
    {
     "name": "stderr",
     "output_type": "stream",
     "text": [
      "100%|█████████████████████████████████████████| 113/113 [00:24<00:00,  4.57it/s]\n",
      "100%|███████████████████████████████████████████| 66/66 [00:06<00:00, 10.42it/s]\n"
     ]
    },
    {
     "name": "stdout",
     "output_type": "stream",
     "text": [
      "All finished!\n",
      "Mean MAE: 1.881818181818182\n",
      "Saved Checkpoint!\n",
      "Epoch: 6 ; Loss: -23.763721\n"
     ]
    },
    {
     "name": "stderr",
     "output_type": "stream",
     "text": [
      "100%|█████████████████████████████████████████| 113/113 [00:24<00:00,  4.65it/s]\n",
      "100%|███████████████████████████████████████████| 66/66 [00:05<00:00, 11.39it/s]\n"
     ]
    },
    {
     "name": "stdout",
     "output_type": "stream",
     "text": [
      "All finished!\n",
      "Mean MAE: 1.9151515151515157\n",
      "Saved Checkpoint!\n",
      "Epoch: 7 ; Loss: -24.817703\n"
     ]
    },
    {
     "name": "stderr",
     "output_type": "stream",
     "text": [
      "100%|█████████████████████████████████████████| 113/113 [00:24<00:00,  4.60it/s]\n",
      "100%|███████████████████████████████████████████| 66/66 [00:05<00:00, 11.11it/s]\n"
     ]
    },
    {
     "name": "stdout",
     "output_type": "stream",
     "text": [
      "All finished!\n",
      "Mean MAE: 1.890606060606061\n",
      "Saved Checkpoint!\n",
      "Epoch: 8 ; Loss: -25.695122\n"
     ]
    },
    {
     "name": "stderr",
     "output_type": "stream",
     "text": [
      "100%|█████████████████████████████████████████| 113/113 [00:27<00:00,  4.13it/s]\n",
      "100%|███████████████████████████████████████████| 66/66 [00:07<00:00,  8.82it/s]\n"
     ]
    },
    {
     "name": "stdout",
     "output_type": "stream",
     "text": [
      "All finished!\n",
      "Mean MAE: 2.175454545454546\n",
      "Saved Checkpoint!\n",
      "Epoch: 9 ; Loss: -25.994110\n"
     ]
    },
    {
     "name": "stderr",
     "output_type": "stream",
     "text": [
      "100%|█████████████████████████████████████████| 113/113 [00:28<00:00,  4.02it/s]\n",
      "100%|███████████████████████████████████████████| 66/66 [00:07<00:00,  9.27it/s]\n"
     ]
    },
    {
     "name": "stdout",
     "output_type": "stream",
     "text": [
      "All finished!\n",
      "Mean MAE: 1.7878787878787883\n",
      "Saved Checkpoint!\n",
      "Epoch: 10 ; Loss: -26.653675\n"
     ]
    }
   ],
   "source": [
    "from tqdm import tqdm\n",
    "#CONTEXT PATH\n",
    "PATH = os.path.join(os.getcwd(), f\"{ckpt_path}/latest_context.pth\")\n",
    "model = PlethRegressor(inp_len=300, out_len=300).to(device)\n",
    "# model.load_state_dict(torch.load(last_checkpoint))\n",
    "loss_fn  = Neg_Pearson2()\n",
    "loss_fn2  = SNRLoss_dB_Signals()#Neg_Pearson()\n",
    "\n",
    "lam = 3\n",
    "\n",
    "learning_rate = 1e-4\n",
    "optimizer = torch.optim.Adam(model.parameters(), lr=learning_rate, weight_decay=1e-6)\n",
    "\n",
    "# Train configurations\n",
    "epochs = 10\n",
    "checkpoint_period = 1\n",
    "epoch_start = 1\n",
    "mae_best_loss = 1000\n",
    "# if os.path.exists(PATH):\n",
    "#     print('Context checkpoint exists. Loading state dictionaries.')\n",
    "#     checkpoint = torch.load(PATH)\n",
    "#     model.load_state_dict(checkpoint['model_state_dict'])\n",
    "#     optimizer.load_state_dict(checkpoint['optimizer_state_dict'])\n",
    "#     epoch_start = checkpoint['epoch']\n",
    "#     epoch_start+=1\n",
    "\n",
    "for epoch in range(epoch_start, epochs+1):\n",
    "    # Training Phase\n",
    "    loss_train = 0\n",
    "    no_batches = 0\n",
    "    # print(\"Starting Epoch: {}\".format(epoch))\n",
    "    for batch, (imgs, signal) in tqdm(enumerate(train_dataloader), total=len(train_dataloader)):\n",
    "        model.train()\n",
    "        # Convert to the appropriate format and mount on the specified device\n",
    "        imgs = imgs.float().to(device)\n",
    "        signal = signal.float().to(device)\n",
    "\n",
    "        # Predict the PPG signal and find ther loss\n",
    "        pred_signal = model(imgs)\n",
    "        loss1 = loss_fn(pred_signal, signal)\n",
    "        loss2 = loss_fn2(pred_signal, signal)\n",
    "        loss = loss2+lam*loss1\n",
    "\n",
    "        # Backprop\n",
    "        optimizer.zero_grad()\n",
    "        loss.backward()\n",
    "        optimizer.step()\n",
    "        \n",
    "        # Accumulate the total loss\n",
    "        loss_train += loss.item()\n",
    "        no_batches+=1\n",
    "\n",
    "    # Save the model every few epochs\n",
    "    if(epoch % checkpoint_period == 0):\n",
    "        torch.save(model.state_dict(), os.path.join(os.getcwd(), f\"{ckpt_path}/PhysNet_state_dict_{epoch}_epochs.pth\"))\n",
    "        #See if best checkpoint\n",
    "        mae_loss_list, hrs = eval_model(root_dir=destination_folder, session_names=val, model=model)\n",
    "        current_loss = np.mean(mae_loss_list) \n",
    "        if(current_loss < mae_best_loss):\n",
    "            mae_best_loss = current_loss\n",
    "            torch.save(model.state_dict(), os.path.join(os.getcwd(), f\"{ckpt_path}/PhysNet_state_dict_best.pth\"))\n",
    "            print(\"Best checkpoint saved!\")\n",
    "        print(\"Saved Checkpoint!\")\n",
    "\n",
    "    print(f\"Epoch: {epoch} ; Loss: {loss_train/no_batches:>7f}\")\n",
    "    #SAVE CONTEXT AFTER EPOCH\n",
    "    torch.save({\n",
    "            'epoch': epoch,\n",
    "            'model_state_dict': model.state_dict(),\n",
    "            'optimizer_state_dict': optimizer.state_dict(),\n",
    "            }, PATH)\n",
    "\n",
    "        "
   ]
  },
  {
   "cell_type": "code",
   "execution_count": 17,
   "metadata": {
    "id": "RkfVgB1puryP"
   },
   "outputs": [],
   "source": [
    "import matplotlib.pyplot as plt\n",
    "import numpy as np\n",
    "from collections import Counter\n",
    "import copy\n",
    "import sklearn.metrics\n",
    "\n",
    "def eval_clinical_performance(hr_est, hr_gt, fitz_labels_path, session_names):\n",
    "    l_m_d_arr = distribute_l_m_d(fitz_labels_path , session_names)\n",
    "    l_m_d_arr = np.array(l_m_d_arr)\n",
    "    #absolute percentage error\n",
    "    # print(hr_gt.shape, hr_est.shape)\n",
    "    apes = np.abs(hr_gt - hr_est)/hr_gt*100\n",
    "    # print(apes)\n",
    "    l_apes = np.reshape(apes[np.where(l_m_d_arr==1)], (-1))\n",
    "    d_apes = np.reshape(apes[np.where(l_m_d_arr==2)], (-1))\n",
    "\n",
    "    l_5 = len(l_apes[l_apes <= 5])/len(l_apes)*100 \n",
    "    d_5 = len(d_apes[d_apes <= 5])/len(d_apes)*100\n",
    "    \n",
    "    l_10 = len(l_apes[l_apes <= 10])/len(l_apes)*100\n",
    "    d_10 = len(d_apes[d_apes <= 10])/len(d_apes)*100\n",
    "\n",
    "    print(\"AAMI Standard - L,D\")\n",
    "    print(l_10, d_10)\n",
    "\n",
    "\n",
    "\n",
    "\n",
    "########################################### Performance ##################################################\n",
    "def eval_performance(hr_est, hr_gt):\n",
    "    hr_est = np.reshape(hr_est, (-1))\n",
    "    hr_gt  = np.reshape(hr_gt, (-1))\n",
    "    r = scipy.stats.pearsonr(hr_est, hr_gt)\n",
    "    mae = np.sum(np.abs(hr_est - hr_gt))/len(hr_est)\n",
    "    hr_std = np.std(hr_est - hr_gt)\n",
    "    hr_rmse = np.sqrt(np.sum(np.square(hr_est-hr_gt))/len(hr_est))\n",
    "    hr_mape = sklearn.metrics.mean_absolute_percentage_error(hr_est, hr_gt)\n",
    "\n",
    "    return mae, hr_mape, hr_rmse, hr_std, r[0]\n",
    "\n",
    "def eval_performance_bias(hr_est, hr_gt, fitz_labels_path, session_names):\n",
    "    l_m_d_arr = distribute_l_m_d(fitz_labels_path , session_names)\n",
    "    l_m_d_arr = np.array(l_m_d_arr)\n",
    "\n",
    "    general_performance = eval_performance(hr_est, hr_gt)\n",
    "    l_p = np.array(eval_performance(hr_est[np.where(l_m_d_arr == 1)], hr_gt[np.where(l_m_d_arr == 1)]))\n",
    "    d_p = np.array(eval_performance(hr_est[np.where(l_m_d_arr == 2)], hr_gt[np.where(l_m_d_arr == 2)]))\n",
    "\n",
    "    performance_diffs = np.array([l_p-d_p])\n",
    "    performance_diffs = np.abs(performance_diffs)\n",
    "    performance_max_diffs = performance_diffs.max(axis=0)\n",
    "\n",
    "    print(\"General Performance\")\n",
    "    print(general_performance)\n",
    "    print(\"Performance Max Differences\")\n",
    "    print(performance_max_diffs)\n",
    "    print(\"Performance By Skin Tone\")\n",
    "    print(\"Light - \", l_p)\n",
    "    print(\"Dark - \", d_p)\n",
    "\n",
    "    return general_performance, performance_max_diffs\n",
    "\n",
    "\n",
    "\n",
    "def eval_models_performance(list_of_errors, list_of_labels):\n",
    "    err_arr = np.array(list_of_errors)\n",
    "    err_str_arr = [['%0.3f' %x for x in y] for y in err_arr]\n",
    "\n",
    "    fig, ax = plt.subplots()\n",
    "    fig.patch.set_visible(False)\n",
    "    fig.set_size_inches(fig_size[0], fig_size[1])\n",
    "    ax.axis('off')\n",
    "    ax.axis('tight')\n",
    "    table = ax.table(cellText=err_str_arr, \n",
    "                    colLabels=[\"MAE\", \"RMSE\", \"STD\", \"MAPE\", \"Pearson Correlation\"], \n",
    "                    rowLabels=list_of_labels)\n",
    "    fig.tight_layout()\n",
    "    ax.set_title(f'Performance Metrics', weight='bold', size=14, color='k')\n",
    "    table.scale(1, 6)\n",
    "    table.set_fontsize(20)\n",
    "    plt.show()\n",
    "\n",
    "from scipy.stats import wasserstein_distance\n",
    "def eval_wasserstein(errors, fitz_labels_path, session_names):\n",
    "    l_m_d_arr = distribute_l_m_d(fitz_labels_path , session_names)\n",
    "    l_m_d_arr = np.array(l_m_d_arr)\n",
    "\n",
    "    l_p = np.array(errors[np.where(l_m_d_arr == 1)[0]])\n",
    "    d_p = np.array(errors[np.where(l_m_d_arr == 2)[0]])\n",
    "\n",
    "    wass_distances = wasserstein_distance(l_p, d_p)\n",
    "    print(\"Wasserstein L/D\")\n",
    "    print(wass_distances)\n",
    "    print(\"Num Light:\", len(l_p), \"Num Dark\", len(d_p))\n",
    "\n",
    "    return wass_distances\n",
    "\n",
    "\n",
    "\n",
    "############################################# Fairness ###################################################\n",
    "\n",
    "def gen_cdf(data, cutoff_mae = 2.5):\n",
    "    # sort the data:\n",
    "    data_sorted = np.sort(data)\n",
    "    # calculate the proportional values of samples\n",
    "    p = (np.arange(len(data))+0.5)/len(data)\n",
    "\n",
    "    return data_sorted, p\n",
    "\n",
    "def gen_cdf_sp(data, freq_res=0.1, max_error = 100):\n",
    "    #round to nearest freq_resolution\n",
    "    data = np.round(data/freq_res)*freq_res\n",
    "    data = np.sort(data)\n",
    "    #count num in each freq_resolution\n",
    "    data_counts = list(Counter(data).items())\n",
    "    freqs = [i[0] for i in data_counts]\n",
    "    counts = [i[1] for i in data_counts]\n",
    "    counts_cum = np.cumsum(counts)\n",
    "    sum_counts = np.sum(counts)\n",
    "    cdf = [i / sum_counts for i in counts_cum]\n",
    "    #add missing freqs\n",
    "    i = 0\n",
    "    #account for not having zero bin\n",
    "    if(freqs[0] != 0):\n",
    "        freqs.insert(0,0.00)\n",
    "        cdf.insert(0,0.00)\n",
    "    while len(freqs) != int(100/freq_res):\n",
    "        if(len(freqs) > i):\n",
    "            if(freqs[i] == freq_res*i):\n",
    "                i += 1\n",
    "            else:\n",
    "                freqs.insert(i, freq_res*i)\n",
    "                cdf.insert(i, cdf[i-1])\n",
    "                # print(freqs[i], freq_res*i,cdf[i])\n",
    "                i +=1\n",
    "        else:\n",
    "            # print(freqs[i], freq_res*i,cdf[i])\n",
    "            freqs.insert(i, freq_res*i)\n",
    "            cdf.insert(i, cdf[i-1])\n",
    "            # print(freqs[i], freq_res*i,cdf[i])\n",
    "            i +=1\n",
    "\n",
    "\n",
    "    return freqs, cdf\n",
    "\n",
    "def calc_sp_ks_test(cdf1, cdf2):\n",
    "    cdf1 = np.array(cdf1)\n",
    "    cdf2 = np.array(cdf2)\n",
    "    max = np.max(np.abs(cdf1-cdf2))\n",
    "    return max\n",
    "\n",
    "def calc_sp_diff_expected(cdf1, cdf2, freqs):\n",
    "    cdf1 = copy.deepcopy(cdf1)\n",
    "    cdf2 = copy.deepcopy(cdf2)\n",
    "    cdf1.insert(0,0)\n",
    "    cdf2.insert(0,0)\n",
    "    cdf1 = np.array(cdf1)\n",
    "    cdf2 = np.array(cdf2)\n",
    "    pdf1 = np.diff(cdf1)\n",
    "    pdf2 = np.diff(cdf2)\n",
    "\n",
    "    diff_pdf = pdf1-pdf2\n",
    "    group_fairness_expectation = np.sum(diff_pdf * freqs)\n",
    "\n",
    "    return group_fairness_expectation\n",
    "\n",
    "def distribute_l_m_d(fitz_labels_path, session_names):\n",
    "    with open(fitz_labels_path, \"rb\") as fpf:\n",
    "        out = pickle.load(fpf)\n",
    "\n",
    "    #mae_list\n",
    "    #session_names\n",
    "    sess_w_fitz = []\n",
    "    fitz_dict = dict(out)\n",
    "    l_m_d_arr = []\n",
    "    for i, sess in enumerate(session_names):\n",
    "        pid = sess.split(\"_\")\n",
    "        pid = pid[0] + \"_\" + pid[1]\n",
    "        fitz_id = fitz_dict[pid]\n",
    "        if(fitz_id < 3):\n",
    "            l_m_d_arr.append(1)\n",
    "        elif(fitz_id < 5):\n",
    "            l_m_d_arr.append(-1)\n",
    "        else:\n",
    "            l_m_d_arr.append(2)\n",
    "    return l_m_d_arr\n",
    "\n",
    "def calc_anderson_k_sample_test(k_samples : list, ):\n",
    "    statistic, crit_vals, p_value = scipy.stats.anderson_ksamp(k_samples, midrank=False)\n",
    "\n",
    "    return statistic, crit_vals, p_value\n",
    "\n",
    "def calc_ks_test(samples : list, samples_labels : list):\n",
    "    #KS Pairwise Sample Test \n",
    "    #return (dark/light),(dark/medium),(medium/light)\n",
    "    ks_full = scipy.stats.ks_2samp(samples[np.where(samples_labels == 2)[0]], samples[np.where(samples_labels == 1)[0]])\n",
    "\n",
    "    return ks_full\n",
    "\n",
    "def dTest(l1,l2):\n",
    "    n1 = len(l1)\n",
    "    n2 = len(l2)\n",
    "    l1 = np.array(l1)\n",
    "    l2 = np.array(l2)\n",
    "    s = np.sqrt(((n1-1)*np.var(l1,ddof=1)+(n2-1)*np.var(l2,ddof=1))/(n1+n2-2))\n",
    "    stat = np.abs(np.mean(l1)-np.mean(l2))/s\n",
    "    print('DTest output is ', stat)\n",
    "    return\n",
    "\n",
    "def calc_d_test(samples : list, samples_labels : list):\n",
    "    #D Pairwise Sample Test \n",
    "    #return (dark/light),(dark/medium),(medium/light)\n",
    "    d_full = dTest(samples[np.where(samples_labels == 2)[0]], samples[np.where(samples_labels == 1)[0]])\n",
    "\n",
    "    return d_full\n",
    "\n",
    "def eval_model_fairness(maes, fitz_labels_path, session_names, name):\n",
    "    l_m_d_arr = distribute_l_m_d(fitz_labels_path , session_names)\n",
    "    l_m_d_arr = np.array(l_m_d_arr)\n",
    "    # maes = maes[:,0]\n",
    "\n",
    "    #Fused\n",
    "    data, p = gen_cdf_sp(maes)\n",
    "    data1, p1 = gen_cdf_sp(maes[np.where(l_m_d_arr == 1)[0]])\n",
    "    data2, p2 = gen_cdf_sp(maes[np.where(l_m_d_arr == 2)[0]])\n",
    "\n",
    "    print(\"L/D, M/D, L/M\")\n",
    "    ####\n",
    "    sp_diff = calc_sp_diff_expected(p2,p1, data)\n",
    "    print(\"Expected Diff\")\n",
    "    print(sp_diff)\n",
    "    #KS Pairwise Sample Test\n",
    "    print(\"KS Test\")\n",
    "    ks_full = calc_ks_test(samples=maes, samples_labels=l_m_d_arr)\n",
    "    print(ks_full)\n",
    "    #D_test\n",
    "    print(\"D_test\")\n",
    "    d_test_results = calc_d_test(maes, l_m_d_arr)\n",
    "    print(d_test_results)\n",
    "    \n",
    "\n",
    "\n",
    "import pickle\n",
    "\n",
    "def eval_model_fitz(fitz_labels_path, mae_list, session_names, name=\"RF\"):\n",
    "    with open(fitz_labels_path, \"rb\") as fpf:\n",
    "        out = pickle.load(fpf)\n",
    "    #mae_list\n",
    "    #session_names\n",
    "    sess_w_fitz = []\n",
    "    fitz_dict = dict(out)\n",
    "    for sess in session_names:\n",
    "        pid = sess.split(\"_\")\n",
    "        pid = pid[0] + \"_\" + pid[1]\n",
    "        sess_w_fitz.append((sess, fitz_dict[pid]))\n",
    "    plt.figure()\n",
    "    plt.hist([i[1] for i in sess_w_fitz], bins=np.arange(1,8))\n",
    "    plt.title(f\"Histogram: {name} Video Count with Fitzpatrick Scale\")\n",
    "    plt.ylabel(\"Num Videos\")\n",
    "    plt.xlabel(\"Fitzpatrick Scale\")\n",
    "\n",
    "    fitz_errors = [[], [], [], [], [], []]\n",
    "    for pid, error in zip(sess_w_fitz, mae_list):\n",
    "        fitz_errors[pid[1]-1].append(error[0])\n",
    "    plt.figure()\n",
    "    plt.plot(np.arange(1,7), [np.mean(a) for a in fitz_errors])\n",
    "    plt.title(f\"{name} Mean Absolute Error as a function of Fitzpatrick Scale\")\n",
    "    plt.ylabel(\"Mean Absolute Error\")\n",
    "    plt.xlabel(\"Fitzpatrick Scale\")\n",
    "    plt.show()\n",
    "\n",
    "    l_m_d_counts = []\n",
    "    for i in sess_w_fitz:\n",
    "        if(i[1]<3):\n",
    "            l_m_d_counts.append(1)\n",
    "        elif(i[1] < 5 and i[1] > 2):\n",
    "            l_m_d_counts.append(2)\n",
    "        else:\n",
    "            l_m_d_counts.append(3)\n",
    "\n",
    "    plt.figure()\n",
    "    plt.hist(l_m_d_counts, bins=np.arange(1,5))\n",
    "    plt.title(f\"Histogram: {name} Video Count with Fitzpatrick Scale\")\n",
    "    plt.ylabel(\"Num Videos\")\n",
    "    plt.xlabel(\"Fitzpatrick Scale\")\n",
    "\n",
    "    cat_errors = [np.mean(a) for a in fitz_errors]\n",
    "    l_m_d_errors = [(cat_errors[0]+cat_errors[1])/2, (cat_errors[2]+cat_errors[3])/2, (cat_errors[4]+cat_errors[5])/2]\n",
    "    plt.figure()\n",
    "    plt.plot(np.arange(1,4), l_m_d_errors)\n",
    "    plt.title(f\"{name} Mean Absolute Error as a function of Light/Medium/Dark Skin Tone Averaged Fitz\")\n",
    "    plt.ylabel(\"Mean Absolute Error\")\n",
    "    plt.xlabel(\"Fitzpatrick Scale\")\n",
    "    plt.show()\n",
    "\n",
    "    #3 histogram plots\n",
    "    plt.figure()\n",
    "    plt.subplot(1, 3, 1)\n",
    "    plt.hist(np.concatenate((fitz_errors[0], fitz_errors[1])), 20)\n",
    "    plt.title(\"Light\")\n",
    "    plt.subplot(1, 3, 2)\n",
    "    plt.xlabel(\"MAE\")\n",
    "    plt.ylabel(\"Counts\")\n",
    "    plt.hist(np.concatenate((fitz_errors[2], fitz_errors[3])), 20)\n",
    "    plt.title(\"Medium\")\n",
    "    plt.subplot(1, 3, 3)\n",
    "    plt.hist(np.concatenate((fitz_errors[4], fitz_errors[5])), 20)\n",
    "    plt.title(\"Dark\")\n",
    "    \n",
    "    l_m_d_errors = [(np.sum(fitz_errors[0]) +np.sum(fitz_errors[1]))/(len(fitz_errors[0])+len(fitz_errors[1])), \n",
    "                    (np.sum(fitz_errors[2]) +np.sum(fitz_errors[3]))/(len(fitz_errors[2])+len(fitz_errors[3])), \n",
    "                    (np.sum(fitz_errors[4]) +np.sum(fitz_errors[5]))/(len(fitz_errors[4])+len(fitz_errors[5]))]\n",
    "    plt.figure()\n",
    "    plt.plot(np.arange(1,4), l_m_d_errors)\n",
    "    plt.title(f\"{name} Mean Absolute Error as a function of Light/Medium/Dark Skin Tone Absolute\")\n",
    "    plt.ylabel(\"Mean Absolute Error\")\n",
    "    plt.xlabel(\"Fitzpatrick Scale\")\n",
    "    plt.show()\n",
    "\n",
    "    print(len(fitz_errors[2])+len(fitz_errors[3]))\n",
    "\n",
    "    print('Mean MAE:', np.mean(np.array(mae_list)))\n",
    "    return [np.mean(a) for a in fitz_errors]"
   ]
  },
  {
   "cell_type": "code",
   "execution_count": 18,
   "metadata": {
    "colab": {
     "base_uri": "https://localhost:8080/"
    },
    "executionInfo": {
     "elapsed": 6,
     "status": "ok",
     "timestamp": 1672890927953,
     "user": {
      "displayName": "Pradyumna Chari",
      "userId": "06555723454452599039"
     },
     "user_tz": 480
    },
    "id": "pDuFzSqVZrGa",
    "outputId": "1f6008f0-9df2-444e-f6e6-00b825c8d47b"
   },
   "outputs": [
    {
     "data": {
      "text/plain": [
       "<All keys matched successfully>"
      ]
     },
     "execution_count": 18,
     "metadata": {},
     "output_type": "execute_result"
    }
   ],
   "source": [
    "model = PlethRegressor(inp_len=300, out_len=300).to(device)\n",
    "model.load_state_dict(torch.load(f\"{ckpt_path}/PhysNet_state_dict_best.pth\"))"
   ]
  },
  {
   "cell_type": "code",
   "execution_count": 19,
   "metadata": {
    "colab": {
     "base_uri": "https://localhost:8080/"
    },
    "executionInfo": {
     "elapsed": 141299,
     "status": "ok",
     "timestamp": 1672891069628,
     "user": {
      "displayName": "Pradyumna Chari",
      "userId": "06555723454452599039"
     },
     "user_tz": 480
    },
    "id": "0UGwflRoZtN4",
    "outputId": "49bbcca8-1d82-4db6-b7f1-1feb33310d04"
   },
   "outputs": [
    {
     "name": "stderr",
     "output_type": "stream",
     "text": [
      "100%|█████████████████████████████████████████| 228/228 [00:25<00:00,  8.86it/s]\n"
     ]
    },
    {
     "name": "stdout",
     "output_type": "stream",
     "text": [
      "All finished!\n",
      "Mean MAE: 1.4993859649122807\n"
     ]
    }
   ],
   "source": [
    "maes_test, hr_test = eval_model(root_dir=destination_folder, session_names=test, model=model)"
   ]
  },
  {
   "cell_type": "code",
   "execution_count": 20,
   "metadata": {
    "colab": {
     "base_uri": "https://localhost:8080/"
    },
    "executionInfo": {
     "elapsed": 321,
     "status": "ok",
     "timestamp": 1672891069937,
     "user": {
      "displayName": "Pradyumna Chari",
      "userId": "06555723454452599039"
     },
     "user_tz": 480
    },
    "id": "Zrp5HohBemBk",
    "outputId": "437e7f6a-8753-4943-c6d6-8dd57421b21d"
   },
   "outputs": [
    {
     "name": "stdout",
     "output_type": "stream",
     "text": [
      "AAMI Standard - L,D\n",
      "98.59649122807016 96.0\n",
      "****************************************************************************************************\n",
      "General Performance\n",
      "(1.4993859649122807, 0.021357831055928818, 4.539447953143449, 4.478072133442876, 0.926234516638756)\n",
      "Performance Max Differences\n",
      "[0.65529825 0.01131086 2.0055922  1.97709541 0.0669903 ]\n",
      "Performance By Skin Tone\n",
      "Light -  [0.81070175 0.01125816 1.90428418 1.89577461 0.98186025]\n",
      "Dark -  [1.466      0.02256902 3.90987638 3.87287002 0.91486994]\n",
      "****************************************************************************************************\n",
      "L/D, M/D, L/M\n",
      "Expected Diff\n",
      "0.6494736842105261\n",
      "KS Test\n",
      "KstestResult(statistic=0.18070175438596492, pvalue=0.37247905655739805)\n",
      "D_test\n",
      "DTest output is  0.47346197258176986\n",
      "None\n",
      "****************************************************************************************************\n",
      "Wasserstein L/D\n",
      "0.6771228070175435\n",
      "Num Light: 114 Num Dark 30\n"
     ]
    },
    {
     "data": {
      "text/plain": [
       "0.6771228070175435"
      ]
     },
     "execution_count": 20,
     "metadata": {},
     "output_type": "execute_result"
    }
   ],
   "source": [
    "fitz_labels_path = \"/home/pradyumnachari/Documents/ImplicitPPG/SIGGRAPH_Data/fitzpatrick_labels.pkl\"\n",
    "eval_clinical_performance(hr_est=np.array(hr_test[0]), hr_gt=np.array(hr_test[1]), fitz_labels_path=fitz_labels_path, session_names=test)\n",
    "print(100*\"*\")\n",
    "eval_performance_bias(hr_est=np.array(hr_test[0]), hr_gt=np.array(hr_test[1]), fitz_labels_path=fitz_labels_path, session_names=test)\n",
    "print(100*\"*\")\n",
    "eval_model_fairness(maes= maes_test[:,0], fitz_labels_path=fitz_labels_path, session_names=test, name=\"rand\")\n",
    "print(100*\"*\")\n",
    "eval_wasserstein(maes_test[:,0], fitz_labels_path, test)"
   ]
  },
  {
   "cell_type": "code",
   "execution_count": 21,
   "metadata": {
    "colab": {
     "base_uri": "https://localhost:8080/",
     "height": 1000
    },
    "executionInfo": {
     "elapsed": 1037,
     "status": "ok",
     "timestamp": 1672891070971,
     "user": {
      "displayName": "Pradyumna Chari",
      "userId": "06555723454452599039"
     },
     "user_tz": 480
    },
    "id": "lAW7sr__GNjV",
    "outputId": "f3f1f778-444a-4c18-abff-6653b890d84a"
   },
   "outputs": [
    {
     "data": {
      "image/png": "[encoded data removed]",
      "text/plain": [
       "<Figure size 432x288 with 1 Axes>"
      ]
     },
     "metadata": {
      "needs_background": "light"
     },
     "output_type": "display_data"
    },
    {
     "data": {
      "image/png": "[encoded data removed]",
      "text/plain": [
       "<Figure size 432x288 with 1 Axes>"
      ]
     },
     "metadata": {
      "needs_background": "light"
     },
     "output_type": "display_data"
    },
    {
     "data": {
      "image/png": "[encoded data removed]",
      "text/plain": [
       "<Figure size 432x288 with 1 Axes>"
      ]
     },
     "metadata": {
      "needs_background": "light"
     },
     "output_type": "display_data"
    },
    {
     "data": {
      "image/png": "[encoded data removed]",
      "text/plain": [
       "<Figure size 432x288 with 1 Axes>"
      ]
     },
     "metadata": {
      "needs_background": "light"
     },
     "output_type": "display_data"
    },
    {
     "data": {
      "image/png": "[encoded data removed]",
      "text/plain": [
       "<Figure size 432x288 with 3 Axes>"
      ]
     },
     "metadata": {
      "needs_background": "light"
     },
     "output_type": "display_data"
    },
    {
     "data": {
      "image/png": "[encoded data removed]",
      "text/plain": [
       "<Figure size 432x288 with 1 Axes>"
      ]
     },
     "metadata": {
      "needs_background": "light"
     },
     "output_type": "display_data"
    },
    {
     "name": "stdout",
     "output_type": "stream",
     "text": [
      "84\n",
      "Mean MAE: 1.4993859649122807\n"
     ]
    },
    {
     "data": {
      "text/plain": [
       "[1.1141935483870964,\n",
       " 0.6973493975903615,\n",
       " 1.0300000000000005,\n",
       " 3.012333333333333,\n",
       " 0.610000000000001,\n",
       " 2.036666666666666]"
      ]
     },
     "execution_count": 21,
     "metadata": {},
     "output_type": "execute_result"
    }
   ],
   "source": [
    "eval_model_fitz(fitz_labels_path, maes_test, test, \" \")"
   ]
  },
  {
   "cell_type": "code",
   "execution_count": null,
   "metadata": {
    "id": "ysFtDO7hLqtm"
   },
   "outputs": [],
   "source": []
  },
  {
   "cell_type": "code",
   "execution_count": null,
   "metadata": {},
   "outputs": [],
   "source": []
  }
 ],
 "metadata": {
  "accelerator": "GPU",
  "colab": {
   "provenance": [
    {
     "file_id": "1C9C7CGXx-5-Y-GLQaHor0AyTR5ebB9T_",
     "timestamp": 1639989285816
    }
   ]
  },
  "kernelspec": {
   "display_name": "Python 3 (ipykernel)",
   "language": "python",
   "name": "python3"
  },
  "language_info": {
   "codemirror_mode": {
    "name": "ipython",
    "version": 3
   },
   "file_extension": ".py",
   "mimetype": "text/x-python",
   "name": "python",
   "nbconvert_exporter": "python",
   "pygments_lexer": "ipython3",
   "version": "3.10.8"
  }
 },
 "nbformat": 4,
 "nbformat_minor": 1
}
