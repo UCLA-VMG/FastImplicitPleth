{
 "cells": [
  {
   "cell_type": "code",
   "execution_count": null,
   "metadata": {},
   "outputs": [],
   "source": [
    "import torch\n",
    "import torch.nn as nn\n",
    "import torch.nn.functional as F\n",
    "import numpy as np\n",
    "import matplotlib.pyplot as plt\n",
    "\n",
    "class TemporalMask(nn.Module):\n",
    "\n",
    "    def __init__(self, ):\n",
    "        super(TemporalMask, self).__init__()\n",
    "\n",
    "        # Mask Encoding\n",
    "        self.l1 = torch.nn.Conv3d(3, 1, (3, 3, 3), padding=(1, 1, 1), bias=True)\n",
    "        self.l2 = torch.nn.Conv3d(3, 1, (3, 3, 3), padding=(1, 1, 1), bias=True)\n",
    "        self.l3 = torch.nn.Conv3d(3, 1, (3, 3, 3), padding=(1, 1, 1), bias=True)\n",
    "        self.l4 = torch.nn.Sequential(\n",
    "            torch.nn.Conv3d(3, 1, (3, 3, 3), padding=(1, 1, 1), bias=True),\n",
    "        )\n",
    "\n",
    "        # Downsampling Temporally, Upsampling Spatially\n",
    "        self.u4 = torch.nn.Sequential(\n",
    "            torch.nn.MaxPool3d((2, 1, 1), stride=(2, 1, 1)),\n",
    "            torch.nn.ConvTranspose3d(1, 1, (1, 3, 3), padding=(0, 1, 1), stride=(1,2,2), output_padding=(0,1,1), bias=True)\n",
    "        )\n",
    "        self.u3 = torch.nn.Sequential(\n",
    "            torch.nn.MaxPool3d((3, 1, 1), stride=(3, 1, 1)),\n",
    "            torch.nn.ConvTranspose3d(1, 1, (3, 3, 3), padding=(1, 1, 1), stride=(2,2,2), output_padding=(1,1,1), bias=True),\n",
    "        )\n",
    "        self.u2 = torch.nn.Sequential(\n",
    "            torch.nn.MaxPool3d((2, 1, 1), stride=(2, 1, 1)),\n",
    "            torch.nn.ConvTranspose3d(1, 1, (1, 3, 3), padding=(0, 1, 1), stride=(1,2,2), output_padding=(0,1,1), bias=True),\n",
    "        )\n",
    "\n",
    "    def forward(self, x):\n",
    "\n",
    "        x1 = x[:,:,::6]\n",
    "        x2 = x[:,:,::3,::2,::2]\n",
    "        x3 = x[:,:,::2,::4,::4]\n",
    "        x4 = x[:,:,:  ,::8,::8]\n",
    "\n",
    "        print(x1.shape, x2.shape, x3.shape, x4.shape)\n",
    "\n",
    "        y1 = self.l1(x1)\n",
    "        y2 = self.l2(x2)\n",
    "        y3 = self.l3(x3)\n",
    "        y4 = self.l4(x4)\n",
    "\n",
    "        print(y1.shape, y2.shape, y3.shape, y4.shape)\n",
    "\n",
    "        z3 = self.u4(y4) + y3\n",
    "        z2 = self.u3(z3) + y2\n",
    "        z1 = self.u2(z2) + y1\n",
    "\n",
    "        print(z3.shape, z2.shape, z1.shape)\n",
    "\n",
    "        return z1\n",
    "\n",
    "def maskMultiply(x, mask):\n",
    "    # Multiplies mask with x, interpolating mask to x's shape\n",
    "    # x: (B, C, T, H, W)\n",
    "    # mask: (B, 1, T//N, H, W), where N is the temporal downsampling factor\n",
    "\n",
    "    new_mask_shape = list(mask.shape)\n",
    "    new_mask_shape[2] = x.shape[2]\n",
    "    interpolated_mask = F.interpolate(mask, size=new_mask_shape[2:], mode='trilinear', align_corners=False) #TODO: Check align_corners performance\n",
    "    return x * interpolated_mask\n"
   ]
  },
  {
   "cell_type": "code",
   "execution_count": null,
   "metadata": {},
   "outputs": [],
   "source": [
    "maskModel = TemporalMask()\n",
    "\n",
    "randBatch = torch.rand((1,3,300,128,128))\n",
    "randBatch[0,0,0,0:64] = 1\n",
    "\n",
    "sampleMask = maskModel(randBatch)"
   ]
  },
  {
   "cell_type": "code",
   "execution_count": null,
   "metadata": {},
   "outputs": [],
   "source": [
    "new_Vid = maskMultiply(randBatch, sampleMask)"
   ]
  },
  {
   "cell_type": "code",
   "execution_count": null,
   "metadata": {},
   "outputs": [],
   "source": [
    "plt.figure()\n",
    "plt.imshow(randBatch[0,0,0].detach().numpy())\n",
    "plt.show()\n",
    "plt.figure()\n",
    "plt.imshow(sampleMask[0,0,0].detach().numpy())\n",
    "plt.show()\n",
    "plt.figure()\n",
    "plt.imshow(new_Vid[0,0,0].detach().numpy())\n",
    "plt.show()"
   ]
  },
  {
   "cell_type": "code",
   "execution_count": null,
   "metadata": {},
   "outputs": [],
   "source": []
  }
 ],
 "metadata": {
  "kernelspec": {
   "display_name": "mm_p",
   "language": "python",
   "name": "python3"
  },
  "language_info": {
   "codemirror_mode": {
    "name": "ipython",
    "version": 3
   },
   "file_extension": ".py",
   "mimetype": "text/x-python",
   "name": "python",
   "nbconvert_exporter": "python",
   "pygments_lexer": "ipython3",
   "version": "3.8.12"
  },
  "orig_nbformat": 4,
  "vscode": {
   "interpreter": {
    "hash": "7a1f192bbb79fcd4bf341e4c0d7356c02bc04710020f1be0a1cc40835fd7f080"
   }
  }
 },
 "nbformat": 4,
 "nbformat_minor": 2
}
